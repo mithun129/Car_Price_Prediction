{
 "cells": [
  {
   "cell_type": "code",
   "execution_count": 2,
   "id": "forced-royalty",
   "metadata": {},
   "outputs": [],
   "source": [
    "#Importing Libraries\n",
    "import numpy as np#for Data Analysis\n",
    "import pandas as pd#for scientific computation\n",
    "import matplotlib.pyplot as plt#for data visualization\n",
    "import seaborn as sns#for data viualization\n",
    "from sklearn.model_selection import train_test_split#importing train test split from sklearn.model_selection\n",
    "from sklearn.linear_model import LinearRegression#importing Linear Regression\n",
    "from sklearn.linear_model import Lasso#importing Lasso\n",
    "from sklearn import metrics#importing metrics"
   ]
  },
  {
   "cell_type": "code",
   "execution_count": 3,
   "id": "figured-associate",
   "metadata": {},
   "outputs": [],
   "source": [
    "#read the data from csv file\n",
    "df=pd.read_csv(r\"F:ucar2.csv\")"
   ]
  },
  {
   "cell_type": "code",
   "execution_count": 4,
   "id": "current-input",
   "metadata": {},
   "outputs": [
    {
     "data": {
      "text/html": [
       "<div>\n",
       "<style scoped>\n",
       "    .dataframe tbody tr th:only-of-type {\n",
       "        vertical-align: middle;\n",
       "    }\n",
       "\n",
       "    .dataframe tbody tr th {\n",
       "        vertical-align: top;\n",
       "    }\n",
       "\n",
       "    .dataframe thead th {\n",
       "        text-align: right;\n",
       "    }\n",
       "</style>\n",
       "<table border=\"1\" class=\"dataframe\">\n",
       "  <thead>\n",
       "    <tr style=\"text-align: right;\">\n",
       "      <th></th>\n",
       "      <th>Brand</th>\n",
       "      <th>fueltype</th>\n",
       "      <th>mileage</th>\n",
       "      <th>model</th>\n",
       "      <th>price</th>\n",
       "      <th>transmission</th>\n",
       "      <th>variant</th>\n",
       "      <th>year</th>\n",
       "    </tr>\n",
       "  </thead>\n",
       "  <tbody>\n",
       "    <tr>\n",
       "      <th>0</th>\n",
       "      <td>Audi</td>\n",
       "      <td>Diesel</td>\n",
       "      <td>70500</td>\n",
       "      <td>A4</td>\n",
       "      <td>2650000</td>\n",
       "      <td>Automatic</td>\n",
       "      <td>35 TDI Premium + Sunroof</td>\n",
       "      <td>2015</td>\n",
       "    </tr>\n",
       "    <tr>\n",
       "      <th>1</th>\n",
       "      <td>Audi</td>\n",
       "      <td>Diesel</td>\n",
       "      <td>0</td>\n",
       "      <td>A6</td>\n",
       "      <td>2295000</td>\n",
       "      <td>0</td>\n",
       "      <td>0</td>\n",
       "      <td>2018</td>\n",
       "    </tr>\n",
       "    <tr>\n",
       "      <th>2</th>\n",
       "      <td>Audi</td>\n",
       "      <td>Diesel</td>\n",
       "      <td>0</td>\n",
       "      <td>Q3</td>\n",
       "      <td>530000</td>\n",
       "      <td>0</td>\n",
       "      <td>0</td>\n",
       "      <td>2016</td>\n",
       "    </tr>\n",
       "    <tr>\n",
       "      <th>3</th>\n",
       "      <td>BMW</td>\n",
       "      <td>Diesel</td>\n",
       "      <td>0</td>\n",
       "      <td>3 Series</td>\n",
       "      <td>32000</td>\n",
       "      <td>0</td>\n",
       "      <td>2.5 GX (Diesel) 8 Seater BS IV</td>\n",
       "      <td>2013</td>\n",
       "    </tr>\n",
       "    <tr>\n",
       "      <th>4</th>\n",
       "      <td>BMW</td>\n",
       "      <td>Diesel</td>\n",
       "      <td>30808</td>\n",
       "      <td>3 Series</td>\n",
       "      <td>140999</td>\n",
       "      <td>Manual</td>\n",
       "      <td>2.5 GX (Diesel) 8 Seater</td>\n",
       "      <td>2014</td>\n",
       "    </tr>\n",
       "  </tbody>\n",
       "</table>\n",
       "</div>"
      ],
      "text/plain": [
       "  Brand fueltype  mileage     model    price transmission  \\\n",
       "0  Audi   Diesel    70500        A4  2650000    Automatic   \n",
       "1  Audi   Diesel        0        A6  2295000            0   \n",
       "2  Audi   Diesel        0        Q3   530000            0   \n",
       "3   BMW   Diesel        0  3 Series    32000            0   \n",
       "4   BMW   Diesel    30808  3 Series   140999       Manual   \n",
       "\n",
       "                          variant  year  \n",
       "0        35 TDI Premium + Sunroof  2015  \n",
       "1                               0  2018  \n",
       "2                               0  2016  \n",
       "3  2.5 GX (Diesel) 8 Seater BS IV  2013  \n",
       "4        2.5 GX (Diesel) 8 Seater  2014  "
      ]
     },
     "execution_count": 4,
     "metadata": {},
     "output_type": "execute_result"
    }
   ],
   "source": [
    "#checking the first five rows\n",
    "df.head()"
   ]
  },
  {
   "cell_type": "code",
   "execution_count": 5,
   "id": "hungry-saskatchewan",
   "metadata": {},
   "outputs": [
    {
     "data": {
      "text/html": [
       "<div>\n",
       "<style scoped>\n",
       "    .dataframe tbody tr th:only-of-type {\n",
       "        vertical-align: middle;\n",
       "    }\n",
       "\n",
       "    .dataframe tbody tr th {\n",
       "        vertical-align: top;\n",
       "    }\n",
       "\n",
       "    .dataframe thead th {\n",
       "        text-align: right;\n",
       "    }\n",
       "</style>\n",
       "<table border=\"1\" class=\"dataframe\">\n",
       "  <thead>\n",
       "    <tr style=\"text-align: right;\">\n",
       "      <th></th>\n",
       "      <th>Brand</th>\n",
       "      <th>fueltype</th>\n",
       "      <th>mileage</th>\n",
       "      <th>model</th>\n",
       "      <th>price</th>\n",
       "      <th>transmission</th>\n",
       "      <th>variant</th>\n",
       "      <th>year</th>\n",
       "    </tr>\n",
       "  </thead>\n",
       "  <tbody>\n",
       "    <tr>\n",
       "      <th>194</th>\n",
       "      <td>Volkswagen</td>\n",
       "      <td>Diesel</td>\n",
       "      <td>0</td>\n",
       "      <td>Vento</td>\n",
       "      <td>500000</td>\n",
       "      <td>0</td>\n",
       "      <td>0</td>\n",
       "      <td>2011</td>\n",
       "    </tr>\n",
       "    <tr>\n",
       "      <th>195</th>\n",
       "      <td>Volkswagen</td>\n",
       "      <td>Diesel</td>\n",
       "      <td>0</td>\n",
       "      <td>Vento</td>\n",
       "      <td>345000</td>\n",
       "      <td>0</td>\n",
       "      <td>V</td>\n",
       "      <td>2013</td>\n",
       "    </tr>\n",
       "    <tr>\n",
       "      <th>196</th>\n",
       "      <td>Volkswagen</td>\n",
       "      <td>Petrol</td>\n",
       "      <td>0</td>\n",
       "      <td>Ameo</td>\n",
       "      <td>625000</td>\n",
       "      <td>0</td>\n",
       "      <td>2002-2013 SLE BS IV</td>\n",
       "      <td>2018</td>\n",
       "    </tr>\n",
       "    <tr>\n",
       "      <th>197</th>\n",
       "      <td>Volkswagen</td>\n",
       "      <td>Petrol</td>\n",
       "      <td>0</td>\n",
       "      <td>Polo</td>\n",
       "      <td>410000</td>\n",
       "      <td>0</td>\n",
       "      <td>0</td>\n",
       "      <td>4036</td>\n",
       "    </tr>\n",
       "    <tr>\n",
       "      <th>198</th>\n",
       "      <td>Volkswagen</td>\n",
       "      <td>Petrol</td>\n",
       "      <td>0</td>\n",
       "      <td>Polo</td>\n",
       "      <td>420000</td>\n",
       "      <td>0</td>\n",
       "      <td>Others</td>\n",
       "      <td>2014</td>\n",
       "    </tr>\n",
       "  </tbody>\n",
       "</table>\n",
       "</div>"
      ],
      "text/plain": [
       "          Brand fueltype  mileage  model   price transmission  \\\n",
       "194  Volkswagen   Diesel        0  Vento  500000            0   \n",
       "195  Volkswagen   Diesel        0  Vento  345000            0   \n",
       "196  Volkswagen   Petrol        0   Ameo  625000            0   \n",
       "197  Volkswagen   Petrol        0   Polo  410000            0   \n",
       "198  Volkswagen   Petrol        0   Polo  420000            0   \n",
       "\n",
       "                 variant  year  \n",
       "194                    0  2011  \n",
       "195                    V  2013  \n",
       "196  2002-2013 SLE BS IV  2018  \n",
       "197                    0  4036  \n",
       "198               Others  2014  "
      ]
     },
     "execution_count": 5,
     "metadata": {},
     "output_type": "execute_result"
    }
   ],
   "source": [
    "#checking the last five rows\n",
    "df.tail()"
   ]
  },
  {
   "cell_type": "code",
   "execution_count": 6,
   "id": "unnecessary-orange",
   "metadata": {},
   "outputs": [
    {
     "data": {
      "text/plain": [
       "Brand           object\n",
       "fueltype        object\n",
       "mileage          int64\n",
       "model           object\n",
       "price            int64\n",
       "transmission    object\n",
       "variant         object\n",
       "year             int64\n",
       "dtype: object"
      ]
     },
     "execution_count": 6,
     "metadata": {},
     "output_type": "execute_result"
    }
   ],
   "source": [
    "#checking the dtypes of dataset\n",
    "df.dtypes"
   ]
  },
  {
   "cell_type": "code",
   "execution_count": 7,
   "id": "american-grocery",
   "metadata": {},
   "outputs": [
    {
     "name": "stdout",
     "output_type": "stream",
     "text": [
      "<class 'pandas.core.frame.DataFrame'>\n",
      "RangeIndex: 199 entries, 0 to 198\n",
      "Data columns (total 8 columns):\n",
      " #   Column        Non-Null Count  Dtype \n",
      "---  ------        --------------  ----- \n",
      " 0   Brand         199 non-null    object\n",
      " 1   fueltype      199 non-null    object\n",
      " 2   mileage       199 non-null    int64 \n",
      " 3   model         199 non-null    object\n",
      " 4   price         199 non-null    int64 \n",
      " 5   transmission  199 non-null    object\n",
      " 6   variant       199 non-null    object\n",
      " 7   year          199 non-null    int64 \n",
      "dtypes: int64(3), object(5)\n",
      "memory usage: 12.6+ KB\n"
     ]
    }
   ],
   "source": [
    "#checking the information of the dataset\n",
    "df.info()"
   ]
  },
  {
   "cell_type": "code",
   "execution_count": 8,
   "id": "false-semester",
   "metadata": {},
   "outputs": [
    {
     "data": {
      "text/plain": [
       "Index(['Brand', 'fueltype', 'mileage', 'model', 'price', 'transmission',\n",
       "       'variant', 'year'],\n",
       "      dtype='object')"
      ]
     },
     "execution_count": 8,
     "metadata": {},
     "output_type": "execute_result"
    }
   ],
   "source": [
    "#checking how many columns present in dataset\n",
    "df.columns"
   ]
  },
  {
   "cell_type": "code",
   "execution_count": 9,
   "id": "reasonable-medium",
   "metadata": {},
   "outputs": [
    {
     "data": {
      "text/plain": [
       "Brand           0\n",
       "fueltype        0\n",
       "mileage         0\n",
       "model           0\n",
       "price           0\n",
       "transmission    0\n",
       "variant         0\n",
       "year            0\n",
       "dtype: int64"
      ]
     },
     "execution_count": 9,
     "metadata": {},
     "output_type": "execute_result"
    }
   ],
   "source": [
    "#checking the missing value\n",
    "df.isnull().sum()"
   ]
  },
  {
   "cell_type": "code",
   "execution_count": 82,
   "id": "mature-transport",
   "metadata": {},
   "outputs": [],
   "source": [
    "#checking the distribution of the Categorical columns"
   ]
  },
  {
   "cell_type": "code",
   "execution_count": 11,
   "id": "blocked-updating",
   "metadata": {},
   "outputs": [
    {
     "data": {
      "text/plain": [
       "Diesel           72\n",
       "0                71\n",
       "Petrol           54\n",
       "CNG & Hybrids     2\n",
       "Name: fueltype, dtype: int64"
      ]
     },
     "execution_count": 11,
     "metadata": {},
     "output_type": "execute_result"
    }
   ],
   "source": [
    "\n",
    "df.fueltype.value_counts()\n"
   ]
  },
  {
   "cell_type": "code",
   "execution_count": 12,
   "id": "photographic-fifty",
   "metadata": {},
   "outputs": [
    {
     "data": {
      "text/plain": [
       "0            106\n",
       "Manual        70\n",
       "Automatic     23\n",
       "Name: transmission, dtype: int64"
      ]
     },
     "execution_count": 12,
     "metadata": {},
     "output_type": "execute_result"
    }
   ],
   "source": [
    "df.transmission.value_counts()"
   ]
  },
  {
   "cell_type": "code",
   "execution_count": 13,
   "id": "continental-entertainment",
   "metadata": {},
   "outputs": [
    {
     "data": {
      "text/plain": [
       "0              71\n",
       "Swift Dzire     6\n",
       "Grand i10       6\n",
       "i20             5\n",
       "Ertiga          4\n",
       "               ..\n",
       "Kicks           1\n",
       "Figo Aspire     1\n",
       "Jazz            1\n",
       "Etios Cross     1\n",
       "Q3              1\n",
       "Name: model, Length: 72, dtype: int64"
      ]
     },
     "execution_count": 13,
     "metadata": {},
     "output_type": "execute_result"
    }
   ],
   "source": [
    "df.model.value_counts()\n"
   ]
  },
  {
   "cell_type": "code",
   "execution_count": 14,
   "id": "modular-projector",
   "metadata": {},
   "outputs": [
    {
     "data": {
      "text/plain": [
       "NO rating        71\n",
       "Maruti Suzuki    29\n",
       "Hyundai          27\n",
       "Ford              8\n",
       "BMW               8\n",
       "Toyota            8\n",
       "Mahindra          8\n",
       "Volkswagen        6\n",
       "Mercedes-Benz     6\n",
       "Tata              5\n",
       "Renault           5\n",
       "Honda             5\n",
       "Audi              3\n",
       "Fiat              2\n",
       "Land Rover        2\n",
       "Chevrolet         2\n",
       "Nissan            1\n",
       "Skoda             1\n",
       "Mitsubishi        1\n",
       "Kia               1\n",
       "Name: Brand, dtype: int64"
      ]
     },
     "execution_count": 14,
     "metadata": {},
     "output_type": "execute_result"
    }
   ],
   "source": [
    "df.Brand.value_counts()"
   ]
  },
  {
   "cell_type": "code",
   "execution_count": 4,
   "id": "ultimate-equilibrium",
   "metadata": {},
   "outputs": [
    {
     "data": {
      "text/plain": [
       "(199, 8)"
      ]
     },
     "execution_count": 4,
     "metadata": {},
     "output_type": "execute_result"
    }
   ],
   "source": [
    "#checking the shape od the dataset\n",
    "df.shape"
   ]
  },
  {
   "cell_type": "code",
   "execution_count": 7,
   "id": "recovered-image",
   "metadata": {},
   "outputs": [
    {
     "name": "stdout",
     "output_type": "stream",
     "text": [
      "Diesel           72\n",
      "0                71\n",
      "Petrol           54\n",
      "CNG & Hybrids     2\n",
      "Name: fueltype, dtype: int64\n",
      "0              71\n",
      "Grand i10       6\n",
      "Swift Dzire     6\n",
      "i20             5\n",
      "Ertiga          4\n",
      "               ..\n",
      "A6              1\n",
      "Indica V2       1\n",
      "Rexton          1\n",
      "A4              1\n",
      "Q3              1\n",
      "Name: model, Length: 72, dtype: int64\n",
      "0            106\n",
      "Manual        70\n",
      "Automatic     23\n",
      "Name: transmission, dtype: int64\n"
     ]
    }
   ],
   "source": [
    "#checking the distribution of categorical data\n",
    "print(df.fueltype.value_counts())\n",
    "print(df.model.value_counts())\n",
    "print(df.transmission.value_counts())"
   ]
  },
  {
   "cell_type": "raw",
   "id": "awful-twenty",
   "metadata": {},
   "source": [
    "EDA\n",
    "\n",
    "1.Checking the missing values\n",
    "\n",
    "2.checking for numerical columns\n",
    "\n",
    "3.checking for the distribution of numerical variables\n",
    "\n",
    "4.Checking for categorical variables\n",
    "\n",
    "5.Types of categorical variables"
   ]
  },
  {
   "cell_type": "code",
   "execution_count": 15,
   "id": "blond-construction",
   "metadata": {},
   "outputs": [],
   "source": [
    "#1. Checking the Missing Values\n",
    "\n",
    "missing_value=[feature for feature in df.columns if df[feature].isnull().sum()>1]"
   ]
  },
  {
   "cell_type": "code",
   "execution_count": 16,
   "id": "harmful-memorabilia",
   "metadata": {},
   "outputs": [
    {
     "data": {
      "text/plain": [
       "[]"
      ]
     },
     "execution_count": 16,
     "metadata": {},
     "output_type": "execute_result"
    }
   ],
   "source": [
    "missing_value"
   ]
  },
  {
   "cell_type": "raw",
   "id": "operating-silicon",
   "metadata": {},
   "source": [
    "observation:- There is no missing value present in the dataset"
   ]
  },
  {
   "cell_type": "code",
   "execution_count": 18,
   "id": "inner-gathering",
   "metadata": {},
   "outputs": [],
   "source": [
    "#Checking the number of numerical features\n",
    "numerical_feature=[feature for feature in df.columns if df[feature].dtypes!=\"O\"]"
   ]
  },
  {
   "cell_type": "code",
   "execution_count": 19,
   "id": "auburn-brake",
   "metadata": {},
   "outputs": [
    {
     "data": {
      "text/html": [
       "<div>\n",
       "<style scoped>\n",
       "    .dataframe tbody tr th:only-of-type {\n",
       "        vertical-align: middle;\n",
       "    }\n",
       "\n",
       "    .dataframe tbody tr th {\n",
       "        vertical-align: top;\n",
       "    }\n",
       "\n",
       "    .dataframe thead th {\n",
       "        text-align: right;\n",
       "    }\n",
       "</style>\n",
       "<table border=\"1\" class=\"dataframe\">\n",
       "  <thead>\n",
       "    <tr style=\"text-align: right;\">\n",
       "      <th></th>\n",
       "      <th>mileage</th>\n",
       "      <th>price</th>\n",
       "      <th>year</th>\n",
       "    </tr>\n",
       "  </thead>\n",
       "  <tbody>\n",
       "    <tr>\n",
       "      <th>0</th>\n",
       "      <td>70500</td>\n",
       "      <td>2650000</td>\n",
       "      <td>2015</td>\n",
       "    </tr>\n",
       "    <tr>\n",
       "      <th>1</th>\n",
       "      <td>0</td>\n",
       "      <td>2295000</td>\n",
       "      <td>2018</td>\n",
       "    </tr>\n",
       "    <tr>\n",
       "      <th>2</th>\n",
       "      <td>0</td>\n",
       "      <td>530000</td>\n",
       "      <td>2016</td>\n",
       "    </tr>\n",
       "    <tr>\n",
       "      <th>3</th>\n",
       "      <td>0</td>\n",
       "      <td>32000</td>\n",
       "      <td>2013</td>\n",
       "    </tr>\n",
       "    <tr>\n",
       "      <th>4</th>\n",
       "      <td>30808</td>\n",
       "      <td>140999</td>\n",
       "      <td>2014</td>\n",
       "    </tr>\n",
       "    <tr>\n",
       "      <th>...</th>\n",
       "      <td>...</td>\n",
       "      <td>...</td>\n",
       "      <td>...</td>\n",
       "    </tr>\n",
       "    <tr>\n",
       "      <th>194</th>\n",
       "      <td>0</td>\n",
       "      <td>500000</td>\n",
       "      <td>2011</td>\n",
       "    </tr>\n",
       "    <tr>\n",
       "      <th>195</th>\n",
       "      <td>0</td>\n",
       "      <td>345000</td>\n",
       "      <td>2013</td>\n",
       "    </tr>\n",
       "    <tr>\n",
       "      <th>196</th>\n",
       "      <td>0</td>\n",
       "      <td>625000</td>\n",
       "      <td>2018</td>\n",
       "    </tr>\n",
       "    <tr>\n",
       "      <th>197</th>\n",
       "      <td>0</td>\n",
       "      <td>410000</td>\n",
       "      <td>4036</td>\n",
       "    </tr>\n",
       "    <tr>\n",
       "      <th>198</th>\n",
       "      <td>0</td>\n",
       "      <td>420000</td>\n",
       "      <td>2014</td>\n",
       "    </tr>\n",
       "  </tbody>\n",
       "</table>\n",
       "<p>199 rows × 3 columns</p>\n",
       "</div>"
      ],
      "text/plain": [
       "     mileage    price  year\n",
       "0      70500  2650000  2015\n",
       "1          0  2295000  2018\n",
       "2          0   530000  2016\n",
       "3          0    32000  2013\n",
       "4      30808   140999  2014\n",
       "..       ...      ...   ...\n",
       "194        0   500000  2011\n",
       "195        0   345000  2013\n",
       "196        0   625000  2018\n",
       "197        0   410000  4036\n",
       "198        0   420000  2014\n",
       "\n",
       "[199 rows x 3 columns]"
      ]
     },
     "execution_count": 19,
     "metadata": {},
     "output_type": "execute_result"
    }
   ],
   "source": [
    "df[numerical_feature]"
   ]
  },
  {
   "cell_type": "code",
   "execution_count": 20,
   "id": "surgical-recipe",
   "metadata": {},
   "outputs": [
    {
     "name": "stdout",
     "output_type": "stream",
     "text": [
      "Number of numerical variables 3\n"
     ]
    }
   ],
   "source": [
    "print('Number of numerical variables', len(numerical_feature))"
   ]
  },
  {
   "cell_type": "code",
   "execution_count": 21,
   "id": "delayed-fireplace",
   "metadata": {},
   "outputs": [
    {
     "name": "stdout",
     "output_type": "stream",
     "text": [
      "Number of unique values in numeric column: 154\n",
      "The unique value in the numerical column: \n",
      " [ 2650000  2295000   530000    32000   140999   400000   355000   640000\n",
      "  1845000  1025000   599000   199999   225000   265000   499599   285000\n",
      "   250000   841000   300000   275000   860000  3450000   560000  1021000\n",
      "  1735000  2241000   824000   800000   361000   710000  1600000   396000\n",
      "  1075000  4650000   590000   484000   385000   675000  5200000   215000\n",
      "   470000    40000  1530000   145000   535000  1300000  1100000   780000\n",
      "   450000  1750000   199000   980000  3700000  1900000   245000   750000\n",
      "   120000   550000   375000  1350000  1709999   161000   420000   990000\n",
      "   545000   525000   820000   730000   350000   865000   340000   330000\n",
      "   561000    35000   415000   380000    95000   660000   655555   575000\n",
      "   490000   570000   440000   495000  1650000  1397000   251000   211000\n",
      "   125000  1050000   625000 26510297   210000   200000   465000   425000\n",
      "   320000  4900000   155000  2250000    68000   240000   430000   150000\n",
      "   975000   370000   485000  2992000    82000  1625000   540000    94000\n",
      "   160000  2775000   220000   230000 14771998   175000   195000  1890000\n",
      "   850000   235000  5500000   585000   295000   345000   581000   140000\n",
      "   655000  2372000   915000   650000    79000  1256000   100000  3350000\n",
      "    60002  1085000  1250000   565000   799733   139999  1175000    99000\n",
      "   725000   311000   390000   855000  1270000   711000  2850000   130000\n",
      "   500000   410000]\n"
     ]
    }
   ],
   "source": [
    "#checking the number of unique values present in numerical column\n",
    "\n",
    "print(\"Number of unique values in numeric column:\", df['price'].nunique())\n",
    "print(\"The unique value in the numerical column: \\n\",df['price'].unique())"
   ]
  },
  {
   "cell_type": "raw",
   "id": "median-joining",
   "metadata": {},
   "source": [
    "Checking the discrete columns"
   ]
  },
  {
   "cell_type": "code",
   "execution_count": 22,
   "id": "medium-pacific",
   "metadata": {},
   "outputs": [],
   "source": [
    "#checking the categorical feature\n",
    "discrete_feature=[feature for feature in df.columns if feature not in numerical_feature]"
   ]
  },
  {
   "cell_type": "code",
   "execution_count": 23,
   "id": "powerful-caribbean",
   "metadata": {},
   "outputs": [
    {
     "data": {
      "text/html": [
       "<div>\n",
       "<style scoped>\n",
       "    .dataframe tbody tr th:only-of-type {\n",
       "        vertical-align: middle;\n",
       "    }\n",
       "\n",
       "    .dataframe tbody tr th {\n",
       "        vertical-align: top;\n",
       "    }\n",
       "\n",
       "    .dataframe thead th {\n",
       "        text-align: right;\n",
       "    }\n",
       "</style>\n",
       "<table border=\"1\" class=\"dataframe\">\n",
       "  <thead>\n",
       "    <tr style=\"text-align: right;\">\n",
       "      <th></th>\n",
       "      <th>Brand</th>\n",
       "      <th>fueltype</th>\n",
       "      <th>model</th>\n",
       "      <th>transmission</th>\n",
       "      <th>variant</th>\n",
       "    </tr>\n",
       "  </thead>\n",
       "  <tbody>\n",
       "    <tr>\n",
       "      <th>0</th>\n",
       "      <td>Audi</td>\n",
       "      <td>Diesel</td>\n",
       "      <td>A4</td>\n",
       "      <td>Automatic</td>\n",
       "      <td>35 TDI Premium + Sunroof</td>\n",
       "    </tr>\n",
       "    <tr>\n",
       "      <th>1</th>\n",
       "      <td>Audi</td>\n",
       "      <td>Diesel</td>\n",
       "      <td>A6</td>\n",
       "      <td>0</td>\n",
       "      <td>0</td>\n",
       "    </tr>\n",
       "    <tr>\n",
       "      <th>2</th>\n",
       "      <td>Audi</td>\n",
       "      <td>Diesel</td>\n",
       "      <td>Q3</td>\n",
       "      <td>0</td>\n",
       "      <td>0</td>\n",
       "    </tr>\n",
       "    <tr>\n",
       "      <th>3</th>\n",
       "      <td>BMW</td>\n",
       "      <td>Diesel</td>\n",
       "      <td>3 Series</td>\n",
       "      <td>0</td>\n",
       "      <td>2.5 GX (Diesel) 8 Seater BS IV</td>\n",
       "    </tr>\n",
       "    <tr>\n",
       "      <th>4</th>\n",
       "      <td>BMW</td>\n",
       "      <td>Diesel</td>\n",
       "      <td>3 Series</td>\n",
       "      <td>Manual</td>\n",
       "      <td>2.5 GX (Diesel) 8 Seater</td>\n",
       "    </tr>\n",
       "    <tr>\n",
       "      <th>...</th>\n",
       "      <td>...</td>\n",
       "      <td>...</td>\n",
       "      <td>...</td>\n",
       "      <td>...</td>\n",
       "      <td>...</td>\n",
       "    </tr>\n",
       "    <tr>\n",
       "      <th>194</th>\n",
       "      <td>Volkswagen</td>\n",
       "      <td>Diesel</td>\n",
       "      <td>Vento</td>\n",
       "      <td>0</td>\n",
       "      <td>0</td>\n",
       "    </tr>\n",
       "    <tr>\n",
       "      <th>195</th>\n",
       "      <td>Volkswagen</td>\n",
       "      <td>Diesel</td>\n",
       "      <td>Vento</td>\n",
       "      <td>0</td>\n",
       "      <td>V</td>\n",
       "    </tr>\n",
       "    <tr>\n",
       "      <th>196</th>\n",
       "      <td>Volkswagen</td>\n",
       "      <td>Petrol</td>\n",
       "      <td>Ameo</td>\n",
       "      <td>0</td>\n",
       "      <td>2002-2013 SLE BS IV</td>\n",
       "    </tr>\n",
       "    <tr>\n",
       "      <th>197</th>\n",
       "      <td>Volkswagen</td>\n",
       "      <td>Petrol</td>\n",
       "      <td>Polo</td>\n",
       "      <td>0</td>\n",
       "      <td>0</td>\n",
       "    </tr>\n",
       "    <tr>\n",
       "      <th>198</th>\n",
       "      <td>Volkswagen</td>\n",
       "      <td>Petrol</td>\n",
       "      <td>Polo</td>\n",
       "      <td>0</td>\n",
       "      <td>Others</td>\n",
       "    </tr>\n",
       "  </tbody>\n",
       "</table>\n",
       "<p>199 rows × 5 columns</p>\n",
       "</div>"
      ],
      "text/plain": [
       "          Brand fueltype     model transmission  \\\n",
       "0          Audi   Diesel        A4    Automatic   \n",
       "1          Audi   Diesel        A6            0   \n",
       "2          Audi   Diesel        Q3            0   \n",
       "3           BMW   Diesel  3 Series            0   \n",
       "4           BMW   Diesel  3 Series       Manual   \n",
       "..          ...      ...       ...          ...   \n",
       "194  Volkswagen   Diesel     Vento            0   \n",
       "195  Volkswagen   Diesel     Vento            0   \n",
       "196  Volkswagen   Petrol      Ameo            0   \n",
       "197  Volkswagen   Petrol      Polo            0   \n",
       "198  Volkswagen   Petrol      Polo            0   \n",
       "\n",
       "                            variant  \n",
       "0          35 TDI Premium + Sunroof  \n",
       "1                                 0  \n",
       "2                                 0  \n",
       "3    2.5 GX (Diesel) 8 Seater BS IV  \n",
       "4          2.5 GX (Diesel) 8 Seater  \n",
       "..                              ...  \n",
       "194                               0  \n",
       "195                               V  \n",
       "196             2002-2013 SLE BS IV  \n",
       "197                               0  \n",
       "198                          Others  \n",
       "\n",
       "[199 rows x 5 columns]"
      ]
     },
     "execution_count": 23,
     "metadata": {},
     "output_type": "execute_result"
    }
   ],
   "source": [
    "df[discrete_feature]"
   ]
  },
  {
   "cell_type": "code",
   "execution_count": 24,
   "id": "executive-barcelona",
   "metadata": {},
   "outputs": [
    {
     "name": "stdout",
     "output_type": "stream",
     "text": [
      "Count of discrete columns: 5\n"
     ]
    }
   ],
   "source": [
    "print(\"Count of discrete columns:\", len(discrete_feature))"
   ]
  },
  {
   "cell_type": "code",
   "execution_count": 25,
   "id": "present-woman",
   "metadata": {},
   "outputs": [
    {
     "name": "stdout",
     "output_type": "stream",
     "text": [
      "NO rating        71\n",
      "Maruti Suzuki    29\n",
      "Hyundai          27\n",
      "Ford              8\n",
      "BMW               8\n",
      "Toyota            8\n",
      "Mahindra          8\n",
      "Volkswagen        6\n",
      "Mercedes-Benz     6\n",
      "Tata              5\n",
      "Renault           5\n",
      "Honda             5\n",
      "Audi              3\n",
      "Fiat              2\n",
      "Land Rover        2\n",
      "Chevrolet         2\n",
      "Nissan            1\n",
      "Skoda             1\n",
      "Mitsubishi        1\n",
      "Kia               1\n",
      "Name: Brand, dtype: int64\n",
      "----------------------------------------------------------------------\n"
     ]
    },
    {
     "name": "stderr",
     "output_type": "stream",
     "text": [
      "c:\\users\\admin\\appdata\\local\\programs\\python\\python37\\lib\\site-packages\\seaborn\\_decorators.py:43: FutureWarning: Pass the following variable as a keyword arg: x. From version 0.12, the only valid positional argument will be `data`, and passing other arguments without an explicit keyword will result in an error or misinterpretation.\n",
      "  FutureWarning\n"
     ]
    },
    {
     "data": {
      "text/plain": [
       "<AxesSubplot:xlabel='Brand', ylabel='count'>"
      ]
     },
     "execution_count": 25,
     "metadata": {},
     "output_type": "execute_result"
    },
    {
     "data": {
      "image/png": "[encoded data removed]",
      "text/plain": [
       "<Figure size 1080x432 with 1 Axes>"
      ]
     },
     "metadata": {
      "needs_background": "light"
     },
     "output_type": "display_data"
    }
   ],
   "source": [
    "plt.figure(figsize=(15,6))\n",
    "print(df['Brand'].value_counts())\n",
    "print(\"-\"*70)\n",
    "sns.countplot(df['Brand'].sort_values())"
   ]
  },
  {
   "cell_type": "code",
   "execution_count": 26,
   "id": "mexican-seeking",
   "metadata": {},
   "outputs": [
    {
     "name": "stdout",
     "output_type": "stream",
     "text": [
      "Diesel           72\n",
      "0                71\n",
      "Petrol           54\n",
      "CNG & Hybrids     2\n",
      "Name: fueltype, dtype: int64\n",
      "----------------------------------------------------------------------\n"
     ]
    },
    {
     "name": "stderr",
     "output_type": "stream",
     "text": [
      "c:\\users\\admin\\appdata\\local\\programs\\python\\python37\\lib\\site-packages\\seaborn\\_decorators.py:43: FutureWarning: Pass the following variable as a keyword arg: x. From version 0.12, the only valid positional argument will be `data`, and passing other arguments without an explicit keyword will result in an error or misinterpretation.\n",
      "  FutureWarning\n"
     ]
    },
    {
     "data": {
      "text/plain": [
       "<AxesSubplot:xlabel='fueltype', ylabel='count'>"
      ]
     },
     "execution_count": 26,
     "metadata": {},
     "output_type": "execute_result"
    },
    {
     "data": {
      "image/png": "[encoded data removed]",
      "text/plain": [
       "<Figure size 1080x432 with 1 Axes>"
      ]
     },
     "metadata": {
      "needs_background": "light"
     },
     "output_type": "display_data"
    }
   ],
   "source": [
    "plt.figure(figsize=(15,6))\n",
    "print(df['fueltype'].value_counts())\n",
    "print(\"-\"*70)\n",
    "sns.countplot(df['fueltype'].sort_values())"
   ]
  },
  {
   "cell_type": "code",
   "execution_count": 27,
   "id": "conventional-probe",
   "metadata": {},
   "outputs": [
    {
     "name": "stdout",
     "output_type": "stream",
     "text": [
      "0              71\n",
      "Swift Dzire     6\n",
      "Grand i10       6\n",
      "i20             5\n",
      "Ertiga          4\n",
      "               ..\n",
      "Kicks           1\n",
      "Figo Aspire     1\n",
      "Jazz            1\n",
      "Etios Cross     1\n",
      "Q3              1\n",
      "Name: model, Length: 72, dtype: int64\n",
      "----------------------------------------------------------------------\n"
     ]
    },
    {
     "name": "stderr",
     "output_type": "stream",
     "text": [
      "c:\\users\\admin\\appdata\\local\\programs\\python\\python37\\lib\\site-packages\\seaborn\\_decorators.py:43: FutureWarning: Pass the following variable as a keyword arg: x. From version 0.12, the only valid positional argument will be `data`, and passing other arguments without an explicit keyword will result in an error or misinterpretation.\n",
      "  FutureWarning\n"
     ]
    },
    {
     "data": {
      "text/plain": [
       "<AxesSubplot:xlabel='model', ylabel='count'>"
      ]
     },
     "execution_count": 27,
     "metadata": {},
     "output_type": "execute_result"
    },
    {
     "data": {
      "image/png": "[encoded data removed]",
      "text/plain": [
       "<Figure size 1800x1152 with 1 Axes>"
      ]
     },
     "metadata": {
      "needs_background": "light"
     },
     "output_type": "display_data"
    }
   ],
   "source": [
    "plt.figure(figsize=(25,16))\n",
    "print(df['model'].value_counts())\n",
    "print(\"-\"*70)\n",
    "sns.countplot(df['model'].sort_values())"
   ]
  },
  {
   "cell_type": "code",
   "execution_count": 28,
   "id": "continuous-sapphire",
   "metadata": {},
   "outputs": [
    {
     "name": "stdout",
     "output_type": "stream",
     "text": [
      "0            106\n",
      "Manual        70\n",
      "Automatic     23\n",
      "Name: transmission, dtype: int64\n",
      "----------------------------------------------------------------------\n"
     ]
    },
    {
     "name": "stderr",
     "output_type": "stream",
     "text": [
      "c:\\users\\admin\\appdata\\local\\programs\\python\\python37\\lib\\site-packages\\seaborn\\_decorators.py:43: FutureWarning: Pass the following variable as a keyword arg: x. From version 0.12, the only valid positional argument will be `data`, and passing other arguments without an explicit keyword will result in an error or misinterpretation.\n",
      "  FutureWarning\n"
     ]
    },
    {
     "data": {
      "text/plain": [
       "<AxesSubplot:xlabel='transmission', ylabel='count'>"
      ]
     },
     "execution_count": 28,
     "metadata": {},
     "output_type": "execute_result"
    },
    {
     "data": {
      "image/png": "[encoded data removed]",
      "text/plain": [
       "<Figure size 1080x432 with 1 Axes>"
      ]
     },
     "metadata": {
      "needs_background": "light"
     },
     "output_type": "display_data"
    }
   ],
   "source": [
    "plt.figure(figsize=(15,6))\n",
    "print(df['transmission'].value_counts())\n",
    "print(\"-\"*70)\n",
    "sns.countplot(df['transmission'].sort_values())"
   ]
  },
  {
   "cell_type": "code",
   "execution_count": 29,
   "id": "efficient-longitude",
   "metadata": {},
   "outputs": [
    {
     "name": "stdout",
     "output_type": "stream",
     "text": [
      "0                    70\n",
      "LXI                   4\n",
      "ZDI                   4\n",
      "Others                4\n",
      "VXI                   4\n",
      "                     ..\n",
      "SD4 HSE Luxury 7S     1\n",
      "110PS Diesel RxZ      1\n",
      "43 AMG Coupe          1\n",
      "2.5 V 7 STR           1\n",
      "Sportz                1\n",
      "Name: variant, Length: 109, dtype: int64\n",
      "----------------------------------------------------------------------\n"
     ]
    },
    {
     "name": "stderr",
     "output_type": "stream",
     "text": [
      "c:\\users\\admin\\appdata\\local\\programs\\python\\python37\\lib\\site-packages\\seaborn\\_decorators.py:43: FutureWarning: Pass the following variable as a keyword arg: x. From version 0.12, the only valid positional argument will be `data`, and passing other arguments without an explicit keyword will result in an error or misinterpretation.\n",
      "  FutureWarning\n"
     ]
    },
    {
     "data": {
      "text/plain": [
       "<AxesSubplot:xlabel='variant', ylabel='count'>"
      ]
     },
     "execution_count": 29,
     "metadata": {},
     "output_type": "execute_result"
    },
    {
     "data": {
      "image/png": "[encoded data removed]",
      "text/plain": [
       "<Figure size 2520x1440 with 1 Axes>"
      ]
     },
     "metadata": {
      "needs_background": "light"
     },
     "output_type": "display_data"
    }
   ],
   "source": [
    "plt.figure(figsize=(35,20))\n",
    "print(df['variant'].value_counts())\n",
    "print(\"-\"*70)\n",
    "sns.countplot(df['variant'].sort_values())"
   ]
  },
  {
   "cell_type": "code",
   "execution_count": 30,
   "id": "romantic-thumbnail",
   "metadata": {},
   "outputs": [],
   "source": [
    " #encoding fuel column\n",
    "df.replace({'fueltype':{'Diesel':0,'Petrol':1,'CNG & Hybrids':2,'0':3}},inplace=True)\n",
    "df.replace({'transmission':{'Manual':0,'Automatic':1,'0':2}}, inplace=True)\n"
   ]
  },
  {
   "cell_type": "code",
   "execution_count": 31,
   "id": "acute-france",
   "metadata": {},
   "outputs": [
    {
     "data": {
      "text/html": [
       "<div>\n",
       "<style scoped>\n",
       "    .dataframe tbody tr th:only-of-type {\n",
       "        vertical-align: middle;\n",
       "    }\n",
       "\n",
       "    .dataframe tbody tr th {\n",
       "        vertical-align: top;\n",
       "    }\n",
       "\n",
       "    .dataframe thead th {\n",
       "        text-align: right;\n",
       "    }\n",
       "</style>\n",
       "<table border=\"1\" class=\"dataframe\">\n",
       "  <thead>\n",
       "    <tr style=\"text-align: right;\">\n",
       "      <th></th>\n",
       "      <th>Brand</th>\n",
       "      <th>fueltype</th>\n",
       "      <th>mileage</th>\n",
       "      <th>model</th>\n",
       "      <th>price</th>\n",
       "      <th>transmission</th>\n",
       "      <th>variant</th>\n",
       "      <th>year</th>\n",
       "    </tr>\n",
       "  </thead>\n",
       "  <tbody>\n",
       "    <tr>\n",
       "      <th>0</th>\n",
       "      <td>Audi</td>\n",
       "      <td>0</td>\n",
       "      <td>70500</td>\n",
       "      <td>A4</td>\n",
       "      <td>2650000</td>\n",
       "      <td>1</td>\n",
       "      <td>35 TDI Premium + Sunroof</td>\n",
       "      <td>2015</td>\n",
       "    </tr>\n",
       "    <tr>\n",
       "      <th>1</th>\n",
       "      <td>Audi</td>\n",
       "      <td>0</td>\n",
       "      <td>0</td>\n",
       "      <td>A6</td>\n",
       "      <td>2295000</td>\n",
       "      <td>2</td>\n",
       "      <td>0</td>\n",
       "      <td>2018</td>\n",
       "    </tr>\n",
       "    <tr>\n",
       "      <th>2</th>\n",
       "      <td>Audi</td>\n",
       "      <td>0</td>\n",
       "      <td>0</td>\n",
       "      <td>Q3</td>\n",
       "      <td>530000</td>\n",
       "      <td>2</td>\n",
       "      <td>0</td>\n",
       "      <td>2016</td>\n",
       "    </tr>\n",
       "    <tr>\n",
       "      <th>3</th>\n",
       "      <td>BMW</td>\n",
       "      <td>0</td>\n",
       "      <td>0</td>\n",
       "      <td>3 Series</td>\n",
       "      <td>32000</td>\n",
       "      <td>2</td>\n",
       "      <td>2.5 GX (Diesel) 8 Seater BS IV</td>\n",
       "      <td>2013</td>\n",
       "    </tr>\n",
       "    <tr>\n",
       "      <th>4</th>\n",
       "      <td>BMW</td>\n",
       "      <td>0</td>\n",
       "      <td>30808</td>\n",
       "      <td>3 Series</td>\n",
       "      <td>140999</td>\n",
       "      <td>0</td>\n",
       "      <td>2.5 GX (Diesel) 8 Seater</td>\n",
       "      <td>2014</td>\n",
       "    </tr>\n",
       "  </tbody>\n",
       "</table>\n",
       "</div>"
      ],
      "text/plain": [
       "  Brand  fueltype  mileage     model    price  transmission  \\\n",
       "0  Audi         0    70500        A4  2650000             1   \n",
       "1  Audi         0        0        A6  2295000             2   \n",
       "2  Audi         0        0        Q3   530000             2   \n",
       "3   BMW         0        0  3 Series    32000             2   \n",
       "4   BMW         0    30808  3 Series   140999             0   \n",
       "\n",
       "                          variant  year  \n",
       "0        35 TDI Premium + Sunroof  2015  \n",
       "1                               0  2018  \n",
       "2                               0  2016  \n",
       "3  2.5 GX (Diesel) 8 Seater BS IV  2013  \n",
       "4        2.5 GX (Diesel) 8 Seater  2014  "
      ]
     },
     "execution_count": 31,
     "metadata": {},
     "output_type": "execute_result"
    }
   ],
   "source": [
    "df.head()"
   ]
  },
  {
   "cell_type": "code",
   "execution_count": 32,
   "id": "crazy-ethics",
   "metadata": {},
   "outputs": [],
   "source": [
    "X=df.drop(['Brand','price','variant','model'],axis=1)\n",
    "Y=df['price']"
   ]
  },
  {
   "cell_type": "code",
   "execution_count": 33,
   "id": "everyday-congress",
   "metadata": {},
   "outputs": [],
   "source": [
    "X_train, X_test, Y_train, Y_test= train_test_split(X,Y,test_size=0.2,random_state=2)"
   ]
  },
  {
   "cell_type": "code",
   "execution_count": 34,
   "id": "obvious-disclosure",
   "metadata": {},
   "outputs": [],
   "source": [
    "# loading linear regression model\n",
    "lin_reg_model=LinearRegression()"
   ]
  },
  {
   "cell_type": "code",
   "execution_count": 35,
   "id": "fluid-environment",
   "metadata": {},
   "outputs": [
    {
     "data": {
      "text/plain": [
       "LinearRegression()"
      ]
     },
     "execution_count": 35,
     "metadata": {},
     "output_type": "execute_result"
    }
   ],
   "source": [
    "lin_reg_model.fit(X_train,Y_train)"
   ]
  },
  {
   "cell_type": "code",
   "execution_count": 36,
   "id": "warming-exemption",
   "metadata": {},
   "outputs": [],
   "source": [
    "predicted_values=lin_reg_model.predict(X_train)"
   ]
  },
  {
   "cell_type": "code",
   "execution_count": 37,
   "id": "analyzed-easter",
   "metadata": {},
   "outputs": [
    {
     "name": "stdout",
     "output_type": "stream",
     "text": [
      "R square error: 0.1912408054332838\n"
     ]
    }
   ],
   "source": [
    "# R square error\n",
    "error_score=metrics.r2_score(Y_train,predicted_values)\n",
    "print(\"R square error:\",error_score)"
   ]
  },
  {
   "cell_type": "code",
   "execution_count": 38,
   "id": "medical-mongolia",
   "metadata": {},
   "outputs": [
    {
     "data": {
      "image/png": "[encoded data removed]",
      "text/plain": [
       "<Figure size 432x288 with 1 Axes>"
      ]
     },
     "metadata": {
      "needs_background": "light"
     },
     "output_type": "display_data"
    }
   ],
   "source": [
    "plt.scatter(Y_train,predicted_values,c='g')\n",
    "plt.xlabel('Actual Price')\n",
    "plt.ylabel('Predicted Price')\n",
    "plt.title('Actual Price vs Predicted Price')\n",
    "plt.show()"
   ]
  },
  {
   "cell_type": "code",
   "execution_count": 39,
   "id": "agricultural-nomination",
   "metadata": {},
   "outputs": [],
   "source": [
    "predict=lin_reg_model.predict(X_test)"
   ]
  },
  {
   "cell_type": "code",
   "execution_count": 40,
   "id": "optional-egyptian",
   "metadata": {},
   "outputs": [
    {
     "data": {
      "text/plain": [
       "array([1337021.75443433,  838895.63765552,  351463.48434735,\n",
       "        838925.4380242 , 1024953.59087808, 1025013.19161544,\n",
       "       1024834.38940336,  122874.66082815, 1337021.75443433,\n",
       "        838806.23654948,   75270.80665244,   88388.94975967,\n",
       "        655018.52077439, 1337021.75443433, 1265214.40123334,\n",
       "        838925.4380242 , 1284791.54138327,  838836.03691816,\n",
       "       1337021.75443433,  838687.03507476,  838925.4380242 ,\n",
       "        899032.78165042,  838836.03691816, 1652775.38530487,\n",
       "        475583.90173019,  892090.0135835 ,  401683.64187023,\n",
       "        838985.03876156, 1024864.18977204, 1337021.75443433,\n",
       "        839014.83913024,  599569.36223632, 1092799.66236881,\n",
       "       1025013.19161544,  271630.77011906,  838895.63765552,\n",
       "       1337021.75443433, 1024983.39124676, 1337021.75443433,\n",
       "       1024744.98829732])"
      ]
     },
     "execution_count": 40,
     "metadata": {},
     "output_type": "execute_result"
    }
   ],
   "source": [
    "predict"
   ]
  },
  {
   "cell_type": "code",
   "execution_count": 41,
   "id": "ambient-sapphire",
   "metadata": {},
   "outputs": [
    {
     "data": {
      "text/plain": [
       "Lasso()"
      ]
     },
     "execution_count": 41,
     "metadata": {},
     "output_type": "execute_result"
    }
   ],
   "source": [
    "lasso_reg_model=Lasso()\n",
    "lasso_reg_model.fit(X_train,Y_train)"
   ]
  },
  {
   "cell_type": "code",
   "execution_count": 42,
   "id": "palestinian-glossary",
   "metadata": {},
   "outputs": [],
   "source": [
    "predicted_values1=lasso_reg_model.predict(X_train)"
   ]
  },
  {
   "cell_type": "code",
   "execution_count": 43,
   "id": "intensive-whale",
   "metadata": {},
   "outputs": [
    {
     "name": "stdout",
     "output_type": "stream",
     "text": [
      "R square error: 0.1912408054327901\n"
     ]
    }
   ],
   "source": [
    "# R square error\n",
    "error_score2=metrics.r2_score(Y_train,predicted_values1)\n",
    "print(\"R square error:\",error_score2)"
   ]
  },
  {
   "cell_type": "code",
   "execution_count": 44,
   "id": "piano-study",
   "metadata": {},
   "outputs": [
    {
     "data": {
      "image/png": "[encoded data removed]",
      "text/plain": [
       "<Figure size 432x288 with 1 Axes>"
      ]
     },
     "metadata": {
      "needs_background": "light"
     },
     "output_type": "display_data"
    }
   ],
   "source": [
    "plt.scatter(Y_train,predicted_values1,c='g')\n",
    "plt.xlabel('Actual Price')\n",
    "plt.ylabel('Predicted Price')\n",
    "plt.title('Actual Price vs Predicted Price')\n",
    "plt.show()"
   ]
  },
  {
   "cell_type": "code",
   "execution_count": 45,
   "id": "exempt-commander",
   "metadata": {},
   "outputs": [
    {
     "data": {
      "text/plain": [
       "array([ 9.81428692e+05,  4.95386213e+05,  1.33701937e+06,  1.33701937e+06,\n",
       "        1.33701937e+06,  1.20521055e+06,  1.02492271e+06,  1.98045487e+06,\n",
       "        9.01506598e+05,  8.98673826e+05,  1.24517160e+06,  1.02507171e+06,\n",
       "        8.50887492e+05,  8.38896135e+05,  8.98971821e+05,  1.02471411e+06,\n",
       "        6.67604327e+05,  8.39015333e+05,  6.01461777e+05,  8.38866336e+05,\n",
       "        1.10717584e+06,  9.31028523e+05,  1.14480589e+06,  1.02495251e+06,\n",
       "        1.02492271e+06,  6.14863829e+05,  6.02660608e+05,  1.33701937e+06,\n",
       "        1.33701937e+06,  1.35914315e+07,  6.73791272e+05,  9.21549763e+05,\n",
       "        2.52798385e+06,  4.31508137e+05,  8.38985533e+05,  1.33701937e+06,\n",
       "        1.09291913e+06,  6.61518620e+05,  8.49619878e+05,  5.51301880e+05,\n",
       "        7.68163280e+05,  8.38836536e+05,  7.41575970e+05,  7.77468297e+05,\n",
       "        8.99061219e+05,  9.18880870e+05,  5.63112789e+05,  5.18214924e+05,\n",
       "        4.19278385e+05,  1.33701937e+06,  1.02492271e+06,  1.02544848e+06,\n",
       "        8.41627669e+05,  1.48893399e+06,  8.38985533e+05,  8.38955734e+05,\n",
       "        1.40907454e+06,  8.38657739e+05,  8.38866336e+05,  8.38955734e+05,\n",
       "        1.33701937e+06,  1.33701937e+06,  1.15326119e+06,  8.89580925e+05,\n",
       "        1.02510151e+06,  1.08938616e+06,  1.02495251e+06,  1.02510151e+06,\n",
       "        4.11893086e+05,  7.53713365e+05,  1.02504191e+06,  8.38687539e+05,\n",
       "        1.33701937e+06,  1.02504191e+06,  8.38925934e+05,  1.05533935e+06,\n",
       "        1.13216846e+06,  6.81783481e+05,  8.38836536e+05,  3.61784010e+05,\n",
       "        1.08499839e+06,  2.80785823e+05,  8.38776937e+05,  8.38866336e+05,\n",
       "        5.53418239e+05,  1.61287588e+06,  1.06934300e+06,  5.51063484e+05,\n",
       "        1.02504191e+06,  8.38896135e+05,  3.95053448e+06,  8.38985533e+05,\n",
       "        8.38955734e+05,  5.97491546e+05,  1.84217781e+06,  8.38836536e+05,\n",
       "        8.38866336e+05,  1.02498231e+06,  1.12528846e+06,  1.67735428e+05,\n",
       "        9.82714141e+05,  1.02501211e+06,  8.38866336e+05,  8.38776937e+05,\n",
       "        2.95670377e+05,  3.93633650e+05,  1.33701937e+06,  1.33701937e+06,\n",
       "        8.38985533e+05,  1.33701937e+06,  1.63285640e+06,  7.37728947e+05,\n",
       "        9.05565344e+05,  1.08517719e+06,  1.08532741e+06,  1.02504191e+06,\n",
       "        1.21686102e+06,  1.07860289e+06,  1.42299027e+06,  5.83321508e+04,\n",
       "        1.08487920e+06,  1.02486311e+06,  1.02501211e+06,  1.33701937e+06,\n",
       "        1.21471486e+06,  1.77933395e+05,  1.02495251e+06,  7.70995197e+05,\n",
       "        5.03378423e+05,  3.51556244e+05,  8.39015333e+05,  8.31118607e+05,\n",
       "        1.02507171e+06,  1.33701937e+06,  2.25707855e+05,  1.33701937e+06,\n",
       "        1.01782392e+06,  1.18158269e+05,  8.39045132e+05,  2.08841233e+06,\n",
       "        8.38836536e+05,  1.33701937e+06,  1.33701937e+06,  8.65604297e+05,\n",
       "       -7.11699534e+01,  1.25251697e+05,  1.02480351e+06,  8.38836536e+05,\n",
       "        8.38955734e+05,  1.02507171e+06,  9.30852694e+05,  8.38836536e+05,\n",
       "        1.33701937e+06,  1.31603408e+06,  1.02495251e+06,  2.49863280e+05,\n",
       "        8.38866336e+05,  8.38955734e+05,  4.81978246e+05])"
      ]
     },
     "execution_count": 45,
     "metadata": {},
     "output_type": "execute_result"
    }
   ],
   "source": [
    "predicted_values1"
   ]
  },
  {
   "cell_type": "code",
   "execution_count": 50,
   "id": "fundamental-relative",
   "metadata": {},
   "outputs": [
    {
     "name": "stdout",
     "output_type": "stream",
     "text": [
      "Mean square error 630378656171.4229\n",
      "RMSE 793963.8884555284\n"
     ]
    }
   ],
   "source": [
    "# checking mean square error, RMSE\n",
    "\n",
    "print(\"Mean square error\",mean_squared_error(Y_test,predict))\n",
    "print(\"RMSE\",np.sqrt(mean_squared_error(Y_test,predict)))"
   ]
  },
  {
   "cell_type": "code",
   "execution_count": 51,
   "id": "interstate-couple",
   "metadata": {},
   "outputs": [],
   "source": [
    "from sklearn.ensemble import RandomForestRegressor\n",
    "from sklearn.metrics import mean_absolute_error, mean_squared_error,r2_score\n",
    "from sklearn.model_selection import RandomizedSearchCV, train_test_split"
   ]
  },
  {
   "cell_type": "code",
   "execution_count": 53,
   "id": "minimal-motorcycle",
   "metadata": {},
   "outputs": [],
   "source": [
    "# Implementing random forest regressor\n",
    "\n",
    "#calling a object\n",
    "rf=RandomForestRegressor()\n",
    "#model fitting\n",
    "rf.fit(X_train,Y_train)\n",
    "#predicting the model\n",
    "y_pred=rf.predict(X_test)"
   ]
  },
  {
   "cell_type": "code",
   "execution_count": 55,
   "id": "wanted-thesis",
   "metadata": {},
   "outputs": [
    {
     "name": "stdout",
     "output_type": "stream",
     "text": [
      "Train score 0.26456305166898675\n"
     ]
    }
   ],
   "source": [
    "print(\"Train score\",rf.score(X_train,Y_train))"
   ]
  },
  {
   "cell_type": "code",
   "execution_count": 57,
   "id": "affiliated-explosion",
   "metadata": {},
   "outputs": [
    {
     "name": "stdout",
     "output_type": "stream",
     "text": [
      "Mean square error 962151488171.7551\n",
      "RMSE 980893.2093616283\n"
     ]
    }
   ],
   "source": [
    "\n",
    "\n",
    "print(\"Mean square error\",mean_squared_error(Y_test,y_pred))\n",
    "print(\"RMSE\",np.sqrt(mean_squared_error(Y_test,y_pred)))"
   ]
  },
  {
   "cell_type": "code",
   "execution_count": 61,
   "id": "incomplete-contrary",
   "metadata": {},
   "outputs": [
    {
     "data": {
      "text/plain": [
       "DecisionTreeRegressor()"
      ]
     },
     "execution_count": 61,
     "metadata": {},
     "output_type": "execute_result"
    }
   ],
   "source": [
    "# import the regressor\n",
    "from sklearn.tree import DecisionTreeRegressor\n",
    "\n",
    "# create a regressor object\n",
    "regressor = DecisionTreeRegressor()\n",
    "\n",
    "# fit the regressor with X and Y data\n",
    "regressor.fit(X,Y)\n"
   ]
  },
  {
   "cell_type": "code",
   "execution_count": 62,
   "id": "signal-karen",
   "metadata": {},
   "outputs": [],
   "source": [
    "# predicting a new value\n",
    "y_pred = regressor.predict(X_test)"
   ]
  },
  {
   "cell_type": "code",
   "execution_count": 63,
   "id": "tired-billy",
   "metadata": {},
   "outputs": [
    {
     "name": "stdout",
     "output_type": "stream",
     "text": [
      "Mean square error 306531212443.76025\n",
      "RMSE 553652.6098951943\n"
     ]
    }
   ],
   "source": [
    "# checking MSE and RMSE\n",
    "\n",
    "print(\"Mean square error\",mean_squared_error(Y_test,y_pred))\n",
    "print(\"RMSE\",np.sqrt(mean_squared_error(Y_test,y_pred)))\n"
   ]
  },
  {
   "cell_type": "raw",
   "id": "hidden-kennedy",
   "metadata": {},
   "source": [
    "1.N_estimators: The number of decision trees being built in the forest. Default values in sklearn are 100. N_estimators are mostly correlated to the size of data, to encapsulate the trends in the data, more number of DTs are needed.\n",
    "2.Max_depth: The maximum levels allowed in a decision tree. If set to nothing, The decision tree will keep on splitting until purity is reached\n",
    "3.Max_features: Maximum number of features used for a node split process. Types: sqrt, log2. If total features are n_features then: sqrt(n_features) or log2(n_features) can be selected as max features for node splitting\n",
    "4.Min_samples_split: This parameter decides the minimum number of samples required to split an internal node. Default value =2. The problem with such a small value is that the condition is checked on the terminal node. If the data points in the node exceed the value 2, then further splitting takes place. Whereas if a more lenient value like 6 is set, then the splitting will stop early and the decision tree wont overfit on the data.\n",
    "5.Min_sample_leaf: This parameter sets the minimum number of data point requirements in a node of the decision tree. It affects the terminal node and basically helps in controlling the depth of the tree. If after a split the data points in a node goes under the min_sample_leaf number, the split won’t go through and will be stopped at the parent node.\n"
   ]
  },
  {
   "cell_type": "code",
   "execution_count": 64,
   "id": "extraordinary-gazette",
   "metadata": {},
   "outputs": [],
   "source": [
    " #Randomizedsearchcv\n",
    "\n",
    "random_parameters={'n_estimators':[int(x) for x in np.linspace(100,400,num=12)],\n",
    "                  'max_features':['auto','sqrt','log2'],\n",
    "                  'max_depth':[int(x) for x in np.linspace(5,30,num=6)],\n",
    "                  'min_samples_split':[2,5,10,15,100],\n",
    "                  'min_samples_leaf':[1,2,5,10]}"
   ]
  },
  {
   "cell_type": "raw",
   "id": "specified-welcome",
   "metadata": {},
   "source": [
    "HyperParameter Tuning Model\n",
    "There are various ways of performing hyperparameter tuning processes. After the base model has been created and evaluated, hyperparameters can be tuned to increase some specific metrics like accuracy or f1 score of the model.\n",
    "\n",
    "One must check the overfitting and the bias variance errors before and after the adjustments. The model should be tuned according to the real time requirement. Sometimes an overfitting model might be very sensitive to the data fluctuation in validation, hence the cross validation scores with the cross validation deviation should be checked for possible overfit before and after modelTuning\n",
    "\n",
    "We can use scikit learn and RandomisedSearchCV where we can define the grid, the random forest model will be fitted over and over by randomly selecting parameters from the grid. We won’t get the best parameters, but we’ll definitely get the best model from the different models being fitted and tested."
   ]
  },
  {
   "cell_type": "code",
   "execution_count": 65,
   "id": "stable-exhaust",
   "metadata": {},
   "outputs": [
    {
     "name": "stdout",
     "output_type": "stream",
     "text": [
      "Fitting 10 folds for each of 10 candidates, totalling 100 fits\n",
      "[CV] END max_depth=10, max_features=auto, min_samples_leaf=5, min_samples_split=5, n_estimators=318; total time=   0.7s\n",
      "[CV] END max_depth=10, max_features=auto, min_samples_leaf=5, min_samples_split=5, n_estimators=318; total time=   0.8s\n",
      "[CV] END max_depth=10, max_features=auto, min_samples_leaf=5, min_samples_split=5, n_estimators=318; total time=   0.7s\n",
      "[CV] END max_depth=10, max_features=auto, min_samples_leaf=5, min_samples_split=5, n_estimators=318; total time=   0.7s\n",
      "[CV] END max_depth=10, max_features=auto, min_samples_leaf=5, min_samples_split=5, n_estimators=318; total time=   0.9s\n",
      "[CV] END max_depth=10, max_features=auto, min_samples_leaf=5, min_samples_split=5, n_estimators=318; total time=   0.8s\n",
      "[CV] END max_depth=10, max_features=auto, min_samples_leaf=5, min_samples_split=5, n_estimators=318; total time=   0.7s\n",
      "[CV] END max_depth=10, max_features=auto, min_samples_leaf=5, min_samples_split=5, n_estimators=318; total time=   0.7s\n",
      "[CV] END max_depth=10, max_features=auto, min_samples_leaf=5, min_samples_split=5, n_estimators=318; total time=   0.8s\n",
      "[CV] END max_depth=10, max_features=auto, min_samples_leaf=5, min_samples_split=5, n_estimators=318; total time=   0.7s\n",
      "[CV] END max_depth=30, max_features=auto, min_samples_leaf=5, min_samples_split=100, n_estimators=209; total time=   0.6s\n",
      "[CV] END max_depth=30, max_features=auto, min_samples_leaf=5, min_samples_split=100, n_estimators=209; total time=   0.4s\n",
      "[CV] END max_depth=30, max_features=auto, min_samples_leaf=5, min_samples_split=100, n_estimators=209; total time=   0.4s\n",
      "[CV] END max_depth=30, max_features=auto, min_samples_leaf=5, min_samples_split=100, n_estimators=209; total time=   0.3s\n",
      "[CV] END max_depth=30, max_features=auto, min_samples_leaf=5, min_samples_split=100, n_estimators=209; total time=   0.3s\n",
      "[CV] END max_depth=30, max_features=auto, min_samples_leaf=5, min_samples_split=100, n_estimators=209; total time=   0.4s\n",
      "[CV] END max_depth=30, max_features=auto, min_samples_leaf=5, min_samples_split=100, n_estimators=209; total time=   0.4s\n",
      "[CV] END max_depth=30, max_features=auto, min_samples_leaf=5, min_samples_split=100, n_estimators=209; total time=   0.5s\n",
      "[CV] END max_depth=30, max_features=auto, min_samples_leaf=5, min_samples_split=100, n_estimators=209; total time=   0.4s\n",
      "[CV] END max_depth=30, max_features=auto, min_samples_leaf=5, min_samples_split=100, n_estimators=209; total time=   0.4s\n",
      "[CV] END max_depth=25, max_features=auto, min_samples_leaf=10, min_samples_split=10, n_estimators=318; total time=   0.8s\n",
      "[CV] END max_depth=25, max_features=auto, min_samples_leaf=10, min_samples_split=10, n_estimators=318; total time=   0.7s\n",
      "[CV] END max_depth=25, max_features=auto, min_samples_leaf=10, min_samples_split=10, n_estimators=318; total time=   0.8s\n",
      "[CV] END max_depth=25, max_features=auto, min_samples_leaf=10, min_samples_split=10, n_estimators=318; total time=   0.7s\n",
      "[CV] END max_depth=25, max_features=auto, min_samples_leaf=10, min_samples_split=10, n_estimators=318; total time=   0.7s\n",
      "[CV] END max_depth=25, max_features=auto, min_samples_leaf=10, min_samples_split=10, n_estimators=318; total time=   0.7s\n",
      "[CV] END max_depth=25, max_features=auto, min_samples_leaf=10, min_samples_split=10, n_estimators=318; total time=   0.7s\n",
      "[CV] END max_depth=25, max_features=auto, min_samples_leaf=10, min_samples_split=10, n_estimators=318; total time=   0.7s\n",
      "[CV] END max_depth=25, max_features=auto, min_samples_leaf=10, min_samples_split=10, n_estimators=318; total time=   0.6s\n",
      "[CV] END max_depth=25, max_features=auto, min_samples_leaf=10, min_samples_split=10, n_estimators=318; total time=   0.7s\n",
      "[CV] END max_depth=5, max_features=sqrt, min_samples_leaf=10, min_samples_split=15, n_estimators=372; total time=   0.9s\n",
      "[CV] END max_depth=5, max_features=sqrt, min_samples_leaf=10, min_samples_split=15, n_estimators=372; total time=   0.8s\n",
      "[CV] END max_depth=5, max_features=sqrt, min_samples_leaf=10, min_samples_split=15, n_estimators=372; total time=   0.8s\n",
      "[CV] END max_depth=5, max_features=sqrt, min_samples_leaf=10, min_samples_split=15, n_estimators=372; total time=   0.8s\n",
      "[CV] END max_depth=5, max_features=sqrt, min_samples_leaf=10, min_samples_split=15, n_estimators=372; total time=   0.7s\n",
      "[CV] END max_depth=5, max_features=sqrt, min_samples_leaf=10, min_samples_split=15, n_estimators=372; total time=   0.9s\n",
      "[CV] END max_depth=5, max_features=sqrt, min_samples_leaf=10, min_samples_split=15, n_estimators=372; total time=   0.8s\n",
      "[CV] END max_depth=5, max_features=sqrt, min_samples_leaf=10, min_samples_split=15, n_estimators=372; total time=   0.8s\n",
      "[CV] END max_depth=5, max_features=sqrt, min_samples_leaf=10, min_samples_split=15, n_estimators=372; total time=   0.8s\n",
      "[CV] END max_depth=5, max_features=sqrt, min_samples_leaf=10, min_samples_split=15, n_estimators=372; total time=   0.7s\n",
      "[CV] END max_depth=25, max_features=log2, min_samples_leaf=2, min_samples_split=10, n_estimators=100; total time=   0.1s\n",
      "[CV] END max_depth=25, max_features=log2, min_samples_leaf=2, min_samples_split=10, n_estimators=100; total time=   0.2s\n",
      "[CV] END max_depth=25, max_features=log2, min_samples_leaf=2, min_samples_split=10, n_estimators=100; total time=   0.2s\n",
      "[CV] END max_depth=25, max_features=log2, min_samples_leaf=2, min_samples_split=10, n_estimators=100; total time=   0.2s\n",
      "[CV] END max_depth=25, max_features=log2, min_samples_leaf=2, min_samples_split=10, n_estimators=100; total time=   0.2s\n",
      "[CV] END max_depth=25, max_features=log2, min_samples_leaf=2, min_samples_split=10, n_estimators=100; total time=   0.2s\n",
      "[CV] END max_depth=25, max_features=log2, min_samples_leaf=2, min_samples_split=10, n_estimators=100; total time=   0.2s\n",
      "[CV] END max_depth=25, max_features=log2, min_samples_leaf=2, min_samples_split=10, n_estimators=100; total time=   0.2s\n",
      "[CV] END max_depth=25, max_features=log2, min_samples_leaf=2, min_samples_split=10, n_estimators=100; total time=   0.2s\n",
      "[CV] END max_depth=25, max_features=log2, min_samples_leaf=2, min_samples_split=10, n_estimators=100; total time=   0.1s\n",
      "[CV] END max_depth=25, max_features=sqrt, min_samples_leaf=1, min_samples_split=100, n_estimators=181; total time=   0.4s\n",
      "[CV] END max_depth=25, max_features=sqrt, min_samples_leaf=1, min_samples_split=100, n_estimators=181; total time=   0.4s\n",
      "[CV] END max_depth=25, max_features=sqrt, min_samples_leaf=1, min_samples_split=100, n_estimators=181; total time=   0.3s\n",
      "[CV] END max_depth=25, max_features=sqrt, min_samples_leaf=1, min_samples_split=100, n_estimators=181; total time=   0.3s\n",
      "[CV] END max_depth=25, max_features=sqrt, min_samples_leaf=1, min_samples_split=100, n_estimators=181; total time=   0.3s\n",
      "[CV] END max_depth=25, max_features=sqrt, min_samples_leaf=1, min_samples_split=100, n_estimators=181; total time=   0.3s\n",
      "[CV] END max_depth=25, max_features=sqrt, min_samples_leaf=1, min_samples_split=100, n_estimators=181; total time=   0.4s\n",
      "[CV] END max_depth=25, max_features=sqrt, min_samples_leaf=1, min_samples_split=100, n_estimators=181; total time=   0.3s\n",
      "[CV] END max_depth=25, max_features=sqrt, min_samples_leaf=1, min_samples_split=100, n_estimators=181; total time=   0.3s\n",
      "[CV] END max_depth=25, max_features=sqrt, min_samples_leaf=1, min_samples_split=100, n_estimators=181; total time=   0.3s\n",
      "[CV] END max_depth=25, max_features=auto, min_samples_leaf=1, min_samples_split=15, n_estimators=181; total time=   0.4s\n",
      "[CV] END max_depth=25, max_features=auto, min_samples_leaf=1, min_samples_split=15, n_estimators=181; total time=   0.3s\n",
      "[CV] END max_depth=25, max_features=auto, min_samples_leaf=1, min_samples_split=15, n_estimators=181; total time=   0.4s\n",
      "[CV] END max_depth=25, max_features=auto, min_samples_leaf=1, min_samples_split=15, n_estimators=181; total time=   0.4s\n",
      "[CV] END max_depth=25, max_features=auto, min_samples_leaf=1, min_samples_split=15, n_estimators=181; total time=   0.4s\n",
      "[CV] END max_depth=25, max_features=auto, min_samples_leaf=1, min_samples_split=15, n_estimators=181; total time=   0.4s\n",
      "[CV] END max_depth=25, max_features=auto, min_samples_leaf=1, min_samples_split=15, n_estimators=181; total time=   0.3s\n",
      "[CV] END max_depth=25, max_features=auto, min_samples_leaf=1, min_samples_split=15, n_estimators=181; total time=   0.4s\n"
     ]
    },
    {
     "name": "stdout",
     "output_type": "stream",
     "text": [
      "[CV] END max_depth=25, max_features=auto, min_samples_leaf=1, min_samples_split=15, n_estimators=181; total time=   0.4s\n",
      "[CV] END max_depth=25, max_features=auto, min_samples_leaf=1, min_samples_split=15, n_estimators=181; total time=   0.4s\n",
      "[CV] END max_depth=5, max_features=auto, min_samples_leaf=5, min_samples_split=2, n_estimators=372; total time=   0.8s\n",
      "[CV] END max_depth=5, max_features=auto, min_samples_leaf=5, min_samples_split=2, n_estimators=372; total time=   0.8s\n",
      "[CV] END max_depth=5, max_features=auto, min_samples_leaf=5, min_samples_split=2, n_estimators=372; total time=   0.9s\n",
      "[CV] END max_depth=5, max_features=auto, min_samples_leaf=5, min_samples_split=2, n_estimators=372; total time=   0.8s\n",
      "[CV] END max_depth=5, max_features=auto, min_samples_leaf=5, min_samples_split=2, n_estimators=372; total time=   0.9s\n",
      "[CV] END max_depth=5, max_features=auto, min_samples_leaf=5, min_samples_split=2, n_estimators=372; total time=   0.9s\n",
      "[CV] END max_depth=5, max_features=auto, min_samples_leaf=5, min_samples_split=2, n_estimators=372; total time=   0.8s\n",
      "[CV] END max_depth=5, max_features=auto, min_samples_leaf=5, min_samples_split=2, n_estimators=372; total time=   0.8s\n",
      "[CV] END max_depth=5, max_features=auto, min_samples_leaf=5, min_samples_split=2, n_estimators=372; total time=   0.8s\n",
      "[CV] END max_depth=5, max_features=auto, min_samples_leaf=5, min_samples_split=2, n_estimators=372; total time=   0.9s\n",
      "[CV] END max_depth=15, max_features=sqrt, min_samples_leaf=1, min_samples_split=2, n_estimators=236; total time=   0.6s\n",
      "[CV] END max_depth=15, max_features=sqrt, min_samples_leaf=1, min_samples_split=2, n_estimators=236; total time=   0.6s\n",
      "[CV] END max_depth=15, max_features=sqrt, min_samples_leaf=1, min_samples_split=2, n_estimators=236; total time=   0.5s\n",
      "[CV] END max_depth=15, max_features=sqrt, min_samples_leaf=1, min_samples_split=2, n_estimators=236; total time=   0.5s\n",
      "[CV] END max_depth=15, max_features=sqrt, min_samples_leaf=1, min_samples_split=2, n_estimators=236; total time=   0.6s\n",
      "[CV] END max_depth=15, max_features=sqrt, min_samples_leaf=1, min_samples_split=2, n_estimators=236; total time=   0.6s\n",
      "[CV] END max_depth=15, max_features=sqrt, min_samples_leaf=1, min_samples_split=2, n_estimators=236; total time=   0.5s\n",
      "[CV] END max_depth=15, max_features=sqrt, min_samples_leaf=1, min_samples_split=2, n_estimators=236; total time=   0.7s\n",
      "[CV] END max_depth=15, max_features=sqrt, min_samples_leaf=1, min_samples_split=2, n_estimators=236; total time=   0.6s\n",
      "[CV] END max_depth=15, max_features=sqrt, min_samples_leaf=1, min_samples_split=2, n_estimators=236; total time=   0.5s\n",
      "[CV] END max_depth=10, max_features=auto, min_samples_leaf=1, min_samples_split=100, n_estimators=127; total time=   0.3s\n",
      "[CV] END max_depth=10, max_features=auto, min_samples_leaf=1, min_samples_split=100, n_estimators=127; total time=   0.3s\n",
      "[CV] END max_depth=10, max_features=auto, min_samples_leaf=1, min_samples_split=100, n_estimators=127; total time=   0.3s\n",
      "[CV] END max_depth=10, max_features=auto, min_samples_leaf=1, min_samples_split=100, n_estimators=127; total time=   0.2s\n",
      "[CV] END max_depth=10, max_features=auto, min_samples_leaf=1, min_samples_split=100, n_estimators=127; total time=   0.2s\n",
      "[CV] END max_depth=10, max_features=auto, min_samples_leaf=1, min_samples_split=100, n_estimators=127; total time=   0.2s\n",
      "[CV] END max_depth=10, max_features=auto, min_samples_leaf=1, min_samples_split=100, n_estimators=127; total time=   0.2s\n",
      "[CV] END max_depth=10, max_features=auto, min_samples_leaf=1, min_samples_split=100, n_estimators=127; total time=   0.2s\n",
      "[CV] END max_depth=10, max_features=auto, min_samples_leaf=1, min_samples_split=100, n_estimators=127; total time=   0.2s\n",
      "[CV] END max_depth=10, max_features=auto, min_samples_leaf=1, min_samples_split=100, n_estimators=127; total time=   0.2s\n"
     ]
    },
    {
     "data": {
      "text/plain": [
       "RandomizedSearchCV(cv=10, estimator=RandomForestRegressor(), n_jobs=1,\n",
       "                   param_distributions={'max_depth': [5, 10, 15, 20, 25, 30],\n",
       "                                        'max_features': ['auto', 'sqrt',\n",
       "                                                         'log2'],\n",
       "                                        'min_samples_leaf': [1, 2, 5, 10],\n",
       "                                        'min_samples_split': [2, 5, 10, 15,\n",
       "                                                              100],\n",
       "                                        'n_estimators': [100, 127, 154, 181,\n",
       "                                                         209, 236, 263, 290,\n",
       "                                                         318, 345, 372, 400]},\n",
       "                   random_state=42, scoring='neg_mean_squared_error',\n",
       "                   verbose=2)"
      ]
     },
     "execution_count": 65,
     "metadata": {},
     "output_type": "execute_result"
    }
   ],
   "source": [
    "random_rf=RandomizedSearchCV(estimator=rf,param_distributions=random_parameters,n_iter=10,scoring=\"neg_mean_squared_error\",\n",
    "                            cv=10,verbose=2,random_state=42,n_jobs=1)\n",
    "random_rf.fit(X_train,Y_train)"
   ]
  },
  {
   "cell_type": "code",
   "execution_count": 66,
   "id": "modified-charity",
   "metadata": {},
   "outputs": [
    {
     "data": {
      "text/plain": [
       "{'n_estimators': 127,\n",
       " 'min_samples_split': 100,\n",
       " 'min_samples_leaf': 1,\n",
       " 'max_features': 'auto',\n",
       " 'max_depth': 10}"
      ]
     },
     "execution_count": 66,
     "metadata": {},
     "output_type": "execute_result"
    }
   ],
   "source": [
    "random_rf.best_params_"
   ]
  },
  {
   "cell_type": "code",
   "execution_count": 68,
   "id": "usual-graham",
   "metadata": {},
   "outputs": [
    {
     "data": {
      "text/plain": [
       "array([1079134.07430144,  930250.55388736,  862257.59595561,\n",
       "        930250.55388736,  963977.46522513,  963977.46522513,\n",
       "        953836.36085038,  919186.80626237, 1079134.07430144,\n",
       "        920109.44951261,  868158.67801555,  910578.43190793,\n",
       "        915121.80142748, 1079134.07430144, 1074146.42621632,\n",
       "        930250.55388736,  969041.11815618,  920109.44951261,\n",
       "       1079134.07430144,  920109.44951261,  930250.55388736,\n",
       "        938858.9282418 ,  920109.44951261, 1084197.7272325 ,\n",
       "       1025735.04098425, 1014744.24122039,  899587.63214408,\n",
       "        938858.9282418 ,  953836.36085038, 1079134.07430144,\n",
       "        938858.9282418 ,  925262.90580223,  899497.82878551,\n",
       "        963977.46522513,  865860.7208063 ,  930250.55388736,\n",
       "       1079134.07430144,  963977.46522513, 1079134.07430144,\n",
       "        953836.36085038])"
      ]
     },
     "execution_count": 68,
     "metadata": {},
     "output_type": "execute_result"
    }
   ],
   "source": [
    "pred_y=random_rf.predict(X_test)\n",
    "pred_y"
   ]
  },
  {
   "cell_type": "code",
   "execution_count": 71,
   "id": "cardiovascular-lodging",
   "metadata": {},
   "outputs": [
    {
     "name": "stdout",
     "output_type": "stream",
     "text": [
      "Mean square error 549386585946.4761\n",
      "RMSE 741206.1696629866\n"
     ]
    }
   ],
   "source": [
    "print(\"Mean square error\",mean_squared_error(Y_test,pred_y))\n",
    "print(\"RMSE\",np.sqrt(mean_squared_error(Y_test,pred_y)))\n"
   ]
  },
  {
   "cell_type": "code",
   "execution_count": 72,
   "id": "latin-suspect",
   "metadata": {},
   "outputs": [],
   "source": [
    "parameters={\"splitter\":[\"best\",\"random\"],\n",
    "            \"max_depth\" : [1,3,5,7,9,11,12],\n",
    "           \"min_samples_leaf\":[1,2,3,4,5,6,7,8,9,10],\n",
    "           \"min_weight_fraction_leaf\":[0.1,0.2,0.3,0.4,0.5,0.6,0.7,0.8,0.9],\n",
    "           \"max_features\":[\"auto\",\"log2\",\"sqrt\",None],\n",
    "           \"max_leaf_nodes\":[None,10,20,30,40,50,60,70,80,90] }"
   ]
  },
  {
   "cell_type": "code",
   "execution_count": 73,
   "id": "computational-router",
   "metadata": {},
   "outputs": [],
   "source": [
    "from sklearn.model_selection import GridSearchCV"
   ]
  },
  {
   "cell_type": "raw",
   "id": "direct-permit",
   "metadata": {},
   "source": [
    "max_features: int, float, string or None, optional (default=None)\n",
    "The number of features to consider when looking for the best split:\n",
    "If int, then consider max_features features at each split.\n",
    "If float, then max_features is a fraction and int(max_features * n_features) features are considered at each split.\n",
    "If “auto”, then max_features=sqrt(n_features).\n",
    "If “sqrt”, then max_features=sqrt(n_features).\n",
    "If “log2”, then max_features=log2(n_features).\n",
    "If None, then max_features=n_features.\n",
    "\n",
    "\n",
    "\n",
    "splitter: string, optional (default=”best”)\n",
    "The strategy used to choose the split at each node. Supported strategies are “best” to choose the best split and “random” to choose the best random split.\n",
    "\n",
    "max_depth: int or None, optional (default=None)\n",
    "The maximum depth of the tree. If None, then nodes are expanded until all leaves are pure or until all leaves contain less than min_samples_split samples.\n",
    "\n",
    "min_samples_split: int, float, optional (default=2)\n",
    "The minimum number of samples required to split an internal node:\n",
    "If int, then consider min_samples_split as the minimum number.\n",
    "If float, then min_samples_split is a fraction and ceil(min_samples_split * n_samples) are the minimum number of samples for each split.\n",
    "\n",
    "min_samples_leaf: int, float, optional (default=1)\n",
    "The minimum number of samples required to be at a leaf node. A split point at any depth will only be considered if it leaves at least min_samples_leaf training samples in each of the left and right branches. This may have the effect of smoothing the model, especially in regression.\n",
    "If int, then consider min_samples_leaf as the minimum number.\n",
    "If float, then min_samples_leaf is a fraction and ceil(min_samples_leaf * n_samples) are the minimum number of samples for each node."
   ]
  },
  {
   "cell_type": "code",
   "execution_count": 74,
   "id": "northern-width",
   "metadata": {},
   "outputs": [],
   "source": [
    "tuning_model=GridSearchCV(regressor,param_grid=parameters,scoring='neg_mean_squared_error',cv=3,verbose=3)"
   ]
  },
  {
   "cell_type": "code",
   "execution_count": 76,
   "id": "improving-grade",
   "metadata": {},
   "outputs": [
    {
     "data": {
      "text/plain": [
       "DecisionTreeRegressor()"
      ]
     },
     "execution_count": 76,
     "metadata": {},
     "output_type": "execute_result"
    }
   ],
   "source": [
    "regressor.fit(X_train,Y_train)"
   ]
  },
  {
   "cell_type": "code",
   "execution_count": 77,
   "id": "short-provision",
   "metadata": {},
   "outputs": [
    {
     "data": {
      "text/plain": [
       "0.30034695214732665"
      ]
     },
     "execution_count": 77,
     "metadata": {},
     "output_type": "execute_result"
    }
   ],
   "source": [
    "regressor.score(X_train,Y_train)"
   ]
  },
  {
   "cell_type": "code",
   "execution_count": 79,
   "id": "nominated-january",
   "metadata": {},
   "outputs": [],
   "source": [
    "tuned_pred=regressor.predict(X_test)"
   ]
  },
  {
   "cell_type": "code",
   "execution_count": 80,
   "id": "charged-commonwealth",
   "metadata": {},
   "outputs": [
    {
     "data": {
      "text/plain": [
       "array([1959752.47368421,  475000.        ,  140999.        ,\n",
       "        340000.        ,  717500.        , 1548000.        ,\n",
       "       1100000.        ,  841577.66666667, 1959752.47368421,\n",
       "        670500.        ,  161000.        , 1750000.        ,\n",
       "       1350000.        , 1959752.47368421,  285000.        ,\n",
       "        340000.        ,  565000.        ,  366500.        ,\n",
       "       1959752.47368421,  125000.        ,  340000.        ,\n",
       "       1709999.        ,  366500.        ,  230000.        ,\n",
       "        100000.        , 1100000.        ,  550000.        ,\n",
       "       1117750.        ,  380000.        , 1959752.47368421,\n",
       "       1197500.        ,  565000.        ,  375000.        ,\n",
       "       1548000.        ,  311000.        ,  475000.        ,\n",
       "       1959752.47368421,  215000.        , 1959752.47368421,\n",
       "        560000.        ])"
      ]
     },
     "execution_count": 80,
     "metadata": {},
     "output_type": "execute_result"
    }
   ],
   "source": [
    "tuned_pred"
   ]
  },
  {
   "cell_type": "code",
   "execution_count": 81,
   "id": "distributed-genetics",
   "metadata": {},
   "outputs": [
    {
     "name": "stdout",
     "output_type": "stream",
     "text": [
      "Mean square error 989538414315.5891\n",
      "RMSE 994755.4545291968\n"
     ]
    }
   ],
   "source": [
    "print(\"Mean square error\",mean_squared_error(Y_test,tuned_pred))\n",
    "print(\"RMSE\",np.sqrt(mean_squared_error(Y_test,tuned_pred)))\n"
   ]
  },
  {
   "cell_type": "markdown",
   "id": "expected-aluminum",
   "metadata": {},
   "source": [
    "Observation: The best fit model is Random Forest which has less mean Squared error...\n",
    "Future Scope:- Here we have only less features  and the large amount of data  is not availabe so the accuracy is low."
   ]
  }
 ],
 "metadata": {
  "kernelspec": {
   "display_name": "Python 3",
   "language": "python",
   "name": "python3"
  },
  "language_info": {
   "codemirror_mode": {
    "name": "ipython",
    "version": 3
   },
   "file_extension": ".py",
   "mimetype": "text/x-python",
   "name": "python",
   "nbconvert_exporter": "python",
   "pygments_lexer": "ipython3",
   "version": "3.9.2"
  }
 },
 "nbformat": 4,
 "nbformat_minor": 5
}
